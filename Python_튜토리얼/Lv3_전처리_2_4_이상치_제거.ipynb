{
  "nbformat": 4,
  "nbformat_minor": 0,
  "metadata": {
    "colab": {
      "provenance": [],
      "collapsed_sections": [
        "J1Is2vFL4cxY"
      ]
    },
    "kernelspec": {
      "name": "python3",
      "display_name": "Python 3"
    },
    "language_info": {
      "name": "python"
    }
  },
  "cells": [
    {
      "cell_type": "markdown",
      "metadata": {
        "id": "vIpjpOEXsoW0"
      },
      "source": [
        "# [↩️ 리스트로 돌아가기](https://dacon.io/competitions/open/235698/overview/description)"
      ]
    },
    {
      "cell_type": "markdown",
      "metadata": {
        "id": "Y8EsppNShcez"
      },
      "source": [
        "# 셀을 실행할 때 팝업이 뜨면 `무시하고 계속하기` 를 눌러주세요\n"
      ]
    },
    {
      "cell_type": "markdown",
      "metadata": {
        "id": "Njt0HrWtCfg2"
      },
      "source": [
        "## 데이터 다운로드\n",
        "---\n",
        "아래 셀을 실행시켜 데이터를 colab 에 불러옵니다.\n",
        "셀 실행은 Ctrl + Enter 를 이용해 실행시킬 수 있습니다."
      ]
    },
    {
      "cell_type": "code",
      "metadata": {
        "id": "AEAqDnUPCtNT",
        "colab": {
          "base_uri": "https://localhost:8080/"
        },
        "outputId": "628e9514-c347-421f-ca04-5a7c9fcd675f"
      },
      "source": [
        "# 데이터 다운로드 링크로 데이터를 코랩에 불러옵니다.\n",
        "\n",
        "!wget 'https://bit.ly/3i4n1QB'\n",
        "\n",
        "import zipfile\n",
        "with zipfile.ZipFile('3i4n1QB', 'r') as existing_zip:\n",
        "    existing_zip.extractall('data')"
      ],
      "execution_count": 23,
      "outputs": [
        {
          "output_type": "stream",
          "name": "stdout",
          "text": [
            "--2023-01-29 12:40:07--  https://bit.ly/3i4n1QB\n",
            "Resolving bit.ly (bit.ly)... 67.199.248.11, 67.199.248.10\n",
            "Connecting to bit.ly (bit.ly)|67.199.248.11|:443... connected.\n",
            "HTTP request sent, awaiting response... 301 Moved Permanently\n",
            "Location: https://drive.google.com/uc?export=download&id=1emLrrpFWT8dCoj5BJb12-5QMG2-nruUw [following]\n",
            "--2023-01-29 12:40:07--  https://drive.google.com/uc?export=download&id=1emLrrpFWT8dCoj5BJb12-5QMG2-nruUw\n",
            "Resolving drive.google.com (drive.google.com)... 173.194.218.100, 173.194.218.102, 173.194.218.139, ...\n",
            "Connecting to drive.google.com (drive.google.com)|173.194.218.100|:443... connected.\n",
            "HTTP request sent, awaiting response... 303 See Other\n",
            "Location: https://doc-10-10-docs.googleusercontent.com/docs/securesc/ha0ro937gcuc7l7deffksulhg5h7mbp1/8k03aemvrg1fk0sjud2am98ridjo0df5/1674996000000/17946651057176172524/*/1emLrrpFWT8dCoj5BJb12-5QMG2-nruUw?e=download&uuid=ab69fe00-3d94-4b0c-bd01-c93f9a276094 [following]\n",
            "Warning: wildcards not supported in HTTP.\n",
            "--2023-01-29 12:40:08--  https://doc-10-10-docs.googleusercontent.com/docs/securesc/ha0ro937gcuc7l7deffksulhg5h7mbp1/8k03aemvrg1fk0sjud2am98ridjo0df5/1674996000000/17946651057176172524/*/1emLrrpFWT8dCoj5BJb12-5QMG2-nruUw?e=download&uuid=ab69fe00-3d94-4b0c-bd01-c93f9a276094\n",
            "Resolving doc-10-10-docs.googleusercontent.com (doc-10-10-docs.googleusercontent.com)... 173.194.218.132, 2607:f8b0:400c:c14::84\n",
            "Connecting to doc-10-10-docs.googleusercontent.com (doc-10-10-docs.googleusercontent.com)|173.194.218.132|:443... connected.\n",
            "HTTP request sent, awaiting response... 200 OK\n",
            "Length: 137694 (134K) [application/zip]\n",
            "Saving to: ‘3i4n1QB.1’\n",
            "\n",
            "3i4n1QB.1           100%[===================>] 134.47K  --.-KB/s    in 0.003s  \n",
            "\n",
            "2023-01-29 12:40:08 (40.0 MB/s) - ‘3i4n1QB.1’ saved [137694/137694]\n",
            "\n"
          ]
        }
      ]
    },
    {
      "cell_type": "code",
      "metadata": {
        "id": "GqVbFVMCGJzT"
      },
      "source": [
        "# 라이브러리 불러오기\n",
        "\n",
        "import pandas as pd\n",
        "import numpy as np\n",
        "import seaborn as sns"
      ],
      "execution_count": 24,
      "outputs": []
    },
    {
      "cell_type": "code",
      "metadata": {
        "id": "Cc10QSz6eyPa",
        "colab": {
          "base_uri": "https://localhost:8080/"
        },
        "outputId": "c9e1d12a-a1ab-46c4-c119-1d0dc6958ff0"
      },
      "source": [
        "# read_csv() 매서드로 train.csv 파일을 df class 로 불러오세요.\n",
        "\n",
        "train = pd.read_csv('data/train.csv')\n",
        "\n",
        "train.shape\n",
        "\n",
        "# train에는 현재 몇개의 행이 있는지 알 수 있습니다."
      ],
      "execution_count": 25,
      "outputs": [
        {
          "output_type": "execute_result",
          "data": {
            "text/plain": [
              "(5497, 14)"
            ]
          },
          "metadata": {},
          "execution_count": 25
        }
      ]
    },
    {
      "cell_type": "markdown",
      "metadata": {
        "id": "ZksEbPou52yW"
      },
      "source": [
        "## 👋 실습\n",
        "---"
      ]
    },
    {
      "cell_type": "code",
      "metadata": {
        "id": "vzfBte-Rdq18"
      },
      "source": [
        "# \"fixed acidity\"가 25%인 값을 \"quantile_25\" 라는 변수에 만들어 주세요\n",
        "quantile_25 = np.quantile(train['fixed acidity'], 0.25)"
      ],
      "execution_count": 26,
      "outputs": []
    },
    {
      "cell_type": "code",
      "metadata": {
        "id": "0Xv-TkZzkjV0"
      },
      "source": [
        "# \"fixed acidity\"가 75%인 값을 \"quantile_75\" 라는 변수에 만들어 주세요\n",
        "quantile_75 = np.quantile(train['fixed acidity'], 0.75)"
      ],
      "execution_count": 27,
      "outputs": []
    },
    {
      "cell_type": "code",
      "metadata": {
        "id": "a7vMbt9anJ64"
      },
      "source": [
        "# quantile_75와 quantile_25의 차이를 \"IQR\"이라는 변수에 만들어 주세요\n",
        "IQR = quantile_75 - quantile_25"
      ],
      "execution_count": 28,
      "outputs": []
    },
    {
      "cell_type": "code",
      "metadata": {
        "id": "FfRgdcqynR6n"
      },
      "source": [
        "# quantile_25보다 1.5 * IQR 작은 값을 \"minimum\"이라는 변수에 만들어 주세요\n",
        "minimum = quantile_25 - 1.5 * IQR"
      ],
      "execution_count": 29,
      "outputs": []
    },
    {
      "cell_type": "code",
      "metadata": {
        "id": "YrdAhNyHnXi3"
      },
      "source": [
        "# quantile_75보다 1.5 * IQR 큰 값을 \"maximum\"이라는 변수에 만들어 주세요\n",
        "maximum = quantile_75 + 1.5  * IQR"
      ],
      "execution_count": 30,
      "outputs": []
    },
    {
      "cell_type": "code",
      "metadata": {
        "id": "r1dIMeWqncrv"
      },
      "source": [
        "# \"fixed acidity\"가 minimum보다 크고, maximum보다 작은 값들만 \"train2\"에 저장해 주세요\n",
        "train2 = train[(minimum < train['fixed acidity']) & (maximum > train['fixed acidity'])]"
      ],
      "execution_count": 31,
      "outputs": []
    },
    {
      "cell_type": "code",
      "metadata": {
        "id": "UwDqO52orRQg",
        "colab": {
          "base_uri": "https://localhost:8080/"
        },
        "outputId": "c58f5803-c7fd-4c50-c1a3-0e2799cdf3a8"
      },
      "source": [
        "# train2.shape를 통해서, 총 몇개의 행이 되었는지 확인해보세요.\n",
        "train2.shape"
      ],
      "execution_count": 32,
      "outputs": [
        {
          "output_type": "execute_result",
          "data": {
            "text/plain": [
              "(5203, 14)"
            ]
          },
          "metadata": {},
          "execution_count": 32
        }
      ]
    },
    {
      "cell_type": "code",
      "metadata": {
        "id": "A_Vf21WIrZGB",
        "colab": {
          "base_uri": "https://localhost:8080/",
          "height": 355
        },
        "outputId": "ca8417a9-b70e-4b77-be9f-83ee0b70cb24"
      },
      "source": [
        "# 몇개의 이상치가 있는지도 계산해보세요.\n",
        "sns.boxplot(train2['fixed acidity'])"
      ],
      "execution_count": 33,
      "outputs": [
        {
          "output_type": "stream",
          "name": "stderr",
          "text": [
            "/usr/local/lib/python3.8/dist-packages/seaborn/_decorators.py:36: FutureWarning: Pass the following variable as a keyword arg: x. From version 0.12, the only valid positional argument will be `data`, and passing other arguments without an explicit keyword will result in an error or misinterpretation.\n",
            "  warnings.warn(\n"
          ]
        },
        {
          "output_type": "execute_result",
          "data": {
            "text/plain": [
              "<matplotlib.axes._subplots.AxesSubplot at 0x7eff6188cfa0>"
            ]
          },
          "metadata": {},
          "execution_count": 33
        },
        {
          "output_type": "display_data",
          "data": {
            "text/plain": [
              "<Figure size 432x288 with 1 Axes>"
            ],
            "image/png": "[encoded data removed]"
          },
          "metadata": {
            "needs_background": "light"
          }
        }
      ]
    },
    {
      "cell_type": "code",
      "source": [
        "train.shape[0] - train2.shape[0]"
      ],
      "metadata": {
        "colab": {
          "base_uri": "https://localhost:8080/"
        },
        "id": "eaBGbOr-iZm7",
        "outputId": "a0af09a5-6e17-4aaa-cda6-2e61eeaa64d4"
      },
      "execution_count": 34,
      "outputs": [
        {
          "output_type": "execute_result",
          "data": {
            "text/plain": [
              "294"
            ]
          },
          "metadata": {},
          "execution_count": 34
        }
      ]
    },
    {
      "cell_type": "markdown",
      "metadata": {
        "id": "J1Is2vFL4cxY"
      },
      "source": [
        "## 정답\n",
        "---"
      ]
    },
    {
      "cell_type": "code",
      "metadata": {
        "id": "i5yfuqaAqlWH"
      },
      "source": [
        "# \"fixed acidity\"가 25%인 값을 \"quantile_25\" 라는 변수에 만들어 주세요\n",
        "\n",
        "quantile_25 = np.quantile(train['fixed acidity'], 0.25)"
      ],
      "execution_count": 35,
      "outputs": []
    },
    {
      "cell_type": "code",
      "metadata": {
        "id": "jkwhwOR0qK6R"
      },
      "source": [
        "# \"fixed acidity\"가 75%인 값을 \"quantile_75\" 라는 변수에 만들어 주세요\n",
        "\n",
        "quantile_75 = np.quantile(train['fixed acidity'],0.75)"
      ],
      "execution_count": 36,
      "outputs": []
    },
    {
      "cell_type": "code",
      "metadata": {
        "id": "XhIYdqr0qK4o"
      },
      "source": [
        "# quantile_75와 quantile_25의 차이를 \"IQR\"이라는 변수에 만들어 주세요\n",
        "\n",
        "IQR = quantile_75 - quantile_25"
      ],
      "execution_count": 37,
      "outputs": []
    },
    {
      "cell_type": "code",
      "metadata": {
        "id": "L0RBOc_bqKpg"
      },
      "source": [
        "# quantile_25보다 1.5 * IQR 작은 값을 \"minimum\"이라는 변수에 만들어 주세요\n",
        "\n",
        "minimum = quantile_25 - 1.5 * IQR"
      ],
      "execution_count": 38,
      "outputs": []
    },
    {
      "cell_type": "code",
      "metadata": {
        "id": "06WjPWJ9qNhA"
      },
      "source": [
        "# quantile_75보다 1.5 * IQR 큰 값을 \"maximum\"이라는 변수에 만들어 주세요\n",
        "\n",
        "maximum = quantile_75 + 1.5 * IQR"
      ],
      "execution_count": 39,
      "outputs": []
    },
    {
      "cell_type": "code",
      "metadata": {
        "id": "PMw1uUkjqOmg"
      },
      "source": [
        "# \"fixed acidity\"가 minimum보다 크고, maximum보다 작은 값들만 \"train2\"에 저장해 주세요\n",
        "\n",
        "train2 = train[(minimum <= train['fixed acidity']) & (train['fixed acidity'] <= maximum)]"
      ],
      "execution_count": 40,
      "outputs": []
    },
    {
      "cell_type": "code",
      "metadata": {
        "id": "2ptwtVCTraxQ",
        "colab": {
          "base_uri": "https://localhost:8080/"
        },
        "outputId": "4e6e7a83-e16d-4d54-e180-60cd5e366e6f"
      },
      "source": [
        "# train2.shape를 통해서, 총 몇개의 행이 되었는지 확인해보세요.\n",
        "\n",
        "train2.shape"
      ],
      "execution_count": 41,
      "outputs": [
        {
          "output_type": "execute_result",
          "data": {
            "text/plain": [
              "(5203, 14)"
            ]
          },
          "metadata": {},
          "execution_count": 41
        }
      ]
    },
    {
      "cell_type": "code",
      "metadata": {
        "id": "8otQadwErciw",
        "colab": {
          "base_uri": "https://localhost:8080/"
        },
        "outputId": "aee793a8-a008-40e6-d1de-cb4bc312c31e"
      },
      "source": [
        "# 몇개의 이상치가 있는지도 계산해보세요.\n",
        "# 294개의 이상치를 발견해 제거했습니다.\n",
        "\n",
        "train.shape[0] - train2.shape[0]"
      ],
      "execution_count": 42,
      "outputs": [
        {
          "output_type": "execute_result",
          "data": {
            "text/plain": [
              "294"
            ]
          },
          "metadata": {},
          "execution_count": 42
        }
      ]
    },
    {
      "cell_type": "markdown",
      "metadata": {
        "id": "K8YgC54VtiB7"
      },
      "source": [
        "# [↩️ 리스트로 돌아가기](https://dacon.io/competitions/open/235698/overview/description)"
      ]
    }
  ]
}