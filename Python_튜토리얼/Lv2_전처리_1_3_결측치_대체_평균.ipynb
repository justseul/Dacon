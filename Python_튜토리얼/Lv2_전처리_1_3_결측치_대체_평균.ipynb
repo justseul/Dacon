{
  "nbformat": 4,
  "nbformat_minor": 0,
  "metadata": {
    "colab": {
      "provenance": [],
      "collapsed_sections": [
        "6XMZVB_z6zHM"
      ]
    },
    "kernelspec": {
      "name": "python3",
      "display_name": "Python 3"
    },
    "language_info": {
      "name": "python"
    }
  },
  "cells": [
    {
      "cell_type": "markdown",
      "metadata": {
        "id": "vIpjpOEXsoW0"
      },
      "source": [
        "# [↩️ 리스트로 돌아가기](https://dacon.io/competitions/open/235698/overview/description)"
      ]
    },
    {
      "cell_type": "markdown",
      "metadata": {
        "id": "Y8EsppNShcez"
      },
      "source": [
        "# 셀을 실행할 때 팝업이 뜨면 `무시하고 계속하기` 를 눌러주세요\n"
      ]
    },
    {
      "cell_type": "markdown",
      "metadata": {
        "id": "FqodyLxg4RLu"
      },
      "source": [
        "## 데이터 다운로드\n",
        "--- \n",
        "아래 셀을 실행시켜 데이터를 colab에 불러옵니다.  \n",
        "셀 실행은 <br>Windows: `Ctrl` + `Enter`<br>\n",
        "Mac: `Shift` + `Enter` <br>\n",
        "를 이용해 실행 시킬 수 있습니다. "
      ]
    },
    {
      "cell_type": "code",
      "metadata": {
        "id": "by55dpRPfTwZ",
        "outputId": "dfbe7081-12f8-4ecc-c435-428200e1adb2",
        "colab": {
          "base_uri": "https://localhost:8080/"
        }
      },
      "source": [
        "# 데이터 다운로드 링크로 데이터를 코랩에 불러옵니다.\n",
        "\n",
        "!wget 'https://bit.ly/3gLj0Q6'\n",
        "\n",
        "import zipfile\n",
        "with zipfile.ZipFile('3gLj0Q6', 'r') as existing_zip:\n",
        "    existing_zip.extractall('data')"
      ],
      "execution_count": 1,
      "outputs": [
        {
          "output_type": "stream",
          "name": "stdout",
          "text": [
            "--2023-01-20 07:15:17--  https://bit.ly/3gLj0Q6\n",
            "Resolving bit.ly (bit.ly)... 67.199.248.11, 67.199.248.10\n",
            "Connecting to bit.ly (bit.ly)|67.199.248.11|:443... connected.\n",
            "HTTP request sent, awaiting response... 301 Moved Permanently\n",
            "Location: https://drive.google.com/uc?export=download&id=1or_QN1ksv81DNog6Tu_kWcZ5jJWf5W9E [following]\n",
            "--2023-01-20 07:15:17--  https://drive.google.com/uc?export=download&id=1or_QN1ksv81DNog6Tu_kWcZ5jJWf5W9E\n",
            "Resolving drive.google.com (drive.google.com)... 74.125.69.138, 74.125.69.139, 74.125.69.102, ...\n",
            "Connecting to drive.google.com (drive.google.com)|74.125.69.138|:443... connected.\n",
            "HTTP request sent, awaiting response... 303 See Other\n",
            "Location: https://doc-0c-10-docs.googleusercontent.com/docs/securesc/ha0ro937gcuc7l7deffksulhg5h7mbp1/u8248nq56tcuaejehdljp2k8dgp8urkn/1674198900000/17946651057176172524/*/1or_QN1ksv81DNog6Tu_kWcZ5jJWf5W9E?e=download&uuid=33380188-5b66-4799-b87e-719cb733d9e0 [following]\n",
            "Warning: wildcards not supported in HTTP.\n",
            "--2023-01-20 07:15:18--  https://doc-0c-10-docs.googleusercontent.com/docs/securesc/ha0ro937gcuc7l7deffksulhg5h7mbp1/u8248nq56tcuaejehdljp2k8dgp8urkn/1674198900000/17946651057176172524/*/1or_QN1ksv81DNog6Tu_kWcZ5jJWf5W9E?e=download&uuid=33380188-5b66-4799-b87e-719cb733d9e0\n",
            "Resolving doc-0c-10-docs.googleusercontent.com (doc-0c-10-docs.googleusercontent.com)... 172.217.212.132, 2607:f8b0:4001:c03::84\n",
            "Connecting to doc-0c-10-docs.googleusercontent.com (doc-0c-10-docs.googleusercontent.com)|172.217.212.132|:443... connected.\n",
            "HTTP request sent, awaiting response... 200 OK\n",
            "Length: 39208 (38K) [application/zip]\n",
            "Saving to: ‘3gLj0Q6’\n",
            "\n",
            "3gLj0Q6             100%[===================>]  38.29K  --.-KB/s    in 0s      \n",
            "\n",
            "2023-01-20 07:15:18 (118 MB/s) - ‘3gLj0Q6’ saved [39208/39208]\n",
            "\n"
          ]
        }
      ]
    },
    {
      "cell_type": "markdown",
      "metadata": {
        "id": "ZksEbPou52yW"
      },
      "source": [
        "## 데이터 불러오기\n",
        "---"
      ]
    },
    {
      "cell_type": "code",
      "metadata": {
        "id": "YdvozqoZ4uhk"
      },
      "source": [
        "import pandas as pd\n",
        "\n",
        "train = pd.read_csv('/content/data/train.csv')\n",
        "test = pd.read_csv('/content/data/test.csv')"
      ],
      "execution_count": 3,
      "outputs": []
    },
    {
      "cell_type": "markdown",
      "metadata": {
        "id": "J1Is2vFL4cxY"
      },
      "source": [
        "## 👋 실습\n",
        "---\n",
        "결측치가 있는 피쳐를 살펴본 후, 각 평균치로 대체해주세요"
      ]
    },
    {
      "cell_type": "markdown",
      "metadata": {
        "id": "bp9dLR4e6DV2"
      },
      "source": [
        "## 결측치가 있는 피쳐 살펴보기\n",
        "---"
      ]
    },
    {
      "cell_type": "code",
      "metadata": {
        "id": "556GGn0866qk",
        "outputId": "4523a503-095d-4c2c-9653-59376adc881c",
        "colab": {
          "base_uri": "https://localhost:8080/"
        }
      },
      "source": [
        "print(train.isnull().sum())\n",
        "print()\n",
        "print(test.isnull().sum())"
      ],
      "execution_count": 8,
      "outputs": [
        {
          "output_type": "stream",
          "name": "stdout",
          "text": [
            "id                          0\n",
            "hour                        0\n",
            "hour_bef_temperature        2\n",
            "hour_bef_precipitation      2\n",
            "hour_bef_windspeed          9\n",
            "hour_bef_humidity           2\n",
            "hour_bef_visibility         2\n",
            "hour_bef_ozone             76\n",
            "hour_bef_pm10              90\n",
            "hour_bef_pm2.5            117\n",
            "count                       0\n",
            "dtype: int64\n",
            "\n",
            "id                         0\n",
            "hour                       0\n",
            "hour_bef_temperature       1\n",
            "hour_bef_precipitation     1\n",
            "hour_bef_windspeed         1\n",
            "hour_bef_humidity          1\n",
            "hour_bef_visibility        1\n",
            "hour_bef_ozone            35\n",
            "hour_bef_pm10             37\n",
            "hour_bef_pm2.5            36\n",
            "dtype: int64\n"
          ]
        }
      ]
    },
    {
      "cell_type": "markdown",
      "metadata": {
        "id": "Jn_Cqwod6PSe"
      },
      "source": [
        "## 결측치 평균값으로 대체하기\n",
        "---\n",
        "fillna() 를 이용해 결측치를 각 피쳐의 평균값으로 대체하는 코드를 아래에 작성하세요."
      ]
    },
    {
      "cell_type": "code",
      "metadata": {
        "id": "bHs-y9Eq6eze"
      },
      "source": [
        "for i in train:\n",
        "  train.fillna({i:int(train[i].mean())}, inplace = True)"
      ],
      "execution_count": 10,
      "outputs": []
    },
    {
      "cell_type": "markdown",
      "metadata": {
        "id": "16O7JmAx6glC"
      },
      "source": [
        "## 결과확인\n",
        "---"
      ]
    },
    {
      "cell_type": "code",
      "metadata": {
        "id": "B8L8r5lg6iz0",
        "outputId": "ae9584c7-4692-4c7f-9430-ee172ca5d966",
        "colab": {
          "base_uri": "https://localhost:8080/"
        }
      },
      "source": [
        "print(train.isnull().sum())"
      ],
      "execution_count": 11,
      "outputs": [
        {
          "output_type": "stream",
          "name": "stdout",
          "text": [
            "id                        0\n",
            "hour                      0\n",
            "hour_bef_temperature      0\n",
            "hour_bef_precipitation    0\n",
            "hour_bef_windspeed        0\n",
            "hour_bef_humidity         0\n",
            "hour_bef_visibility       0\n",
            "hour_bef_ozone            0\n",
            "hour_bef_pm10             0\n",
            "hour_bef_pm2.5            0\n",
            "count                     0\n",
            "dtype: int64\n"
          ]
        }
      ]
    },
    {
      "cell_type": "markdown",
      "metadata": {
        "id": "6XMZVB_z6zHM"
      },
      "source": [
        "## 정답"
      ]
    },
    {
      "cell_type": "code",
      "metadata": {
        "id": "SDEf32IYlAab"
      },
      "source": [
        "import pandas as pd\n",
        "\n",
        "# 정답 코드\n",
        "train = pd.read_csv('data/train.csv') \n",
        "test = pd.read_csv('data/test.csv')"
      ],
      "execution_count": 12,
      "outputs": []
    },
    {
      "cell_type": "code",
      "metadata": {
        "id": "K7pzF9vhsotR",
        "outputId": "ebfe9ccd-e8af-4f3a-f7a3-ec317beb6038",
        "colab": {
          "base_uri": "https://localhost:8080/"
        }
      },
      "source": [
        "print(train.isnull().sum())"
      ],
      "execution_count": 13,
      "outputs": [
        {
          "output_type": "stream",
          "name": "stdout",
          "text": [
            "id                          0\n",
            "hour                        0\n",
            "hour_bef_temperature        2\n",
            "hour_bef_precipitation      2\n",
            "hour_bef_windspeed          9\n",
            "hour_bef_humidity           2\n",
            "hour_bef_visibility         2\n",
            "hour_bef_ozone             76\n",
            "hour_bef_pm10              90\n",
            "hour_bef_pm2.5            117\n",
            "count                       0\n",
            "dtype: int64\n"
          ]
        }
      ]
    },
    {
      "cell_type": "code",
      "metadata": {
        "id": "iAwjO0wFnRZQ"
      },
      "source": [
        "train.fillna({'hour_bef_temperature':int(train['hour_bef_temperature'].mean())}, inplace=True)\n",
        "train.fillna({'hour_bef_precipitation':int(train['hour_bef_precipitation'].mean())}, inplace=True)\n",
        "train.fillna({'hour_bef_windspeed':int(train['hour_bef_windspeed'].mean())}, inplace=True)\n",
        "train.fillna({'hour_bef_humidity':int(train['hour_bef_humidity'].mean())}, inplace=True)\n",
        "train.fillna({'hour_bef_visibility':int(train['hour_bef_visibility'].mean())}, inplace=True)\n",
        "train.fillna({'hour_bef_ozone':int(train['hour_bef_ozone'].mean())}, inplace=True)\n",
        "train.fillna({'hour_bef_pm10':int(train['hour_bef_pm10'].mean())}, inplace=True)\n",
        "train.fillna({'hour_bef_pm2.5':int(train['hour_bef_pm2.5'].mean())}, inplace=True)\n"
      ],
      "execution_count": 14,
      "outputs": []
    },
    {
      "cell_type": "code",
      "metadata": {
        "id": "3CBulD-c4IjV",
        "outputId": "35d7b22a-875c-4925-c3a0-5495554a96ec",
        "colab": {
          "base_uri": "https://localhost:8080/"
        }
      },
      "source": [
        "print(train.isnull().sum())\n",
        "print(train)"
      ],
      "execution_count": 16,
      "outputs": [
        {
          "output_type": "stream",
          "name": "stdout",
          "text": [
            "id                        0\n",
            "hour                      0\n",
            "hour_bef_temperature      0\n",
            "hour_bef_precipitation    0\n",
            "hour_bef_windspeed        0\n",
            "hour_bef_humidity         0\n",
            "hour_bef_visibility       0\n",
            "hour_bef_ozone            0\n",
            "hour_bef_pm10             0\n",
            "hour_bef_pm2.5            0\n",
            "count                     0\n",
            "dtype: int64\n",
            "        id  hour  hour_bef_temperature  hour_bef_precipitation  \\\n",
            "0        3    20                  16.3                     1.0   \n",
            "1        6    13                  20.1                     0.0   \n",
            "2        7     6                  13.9                     0.0   \n",
            "3        8    23                   8.1                     0.0   \n",
            "4        9    18                  29.5                     0.0   \n",
            "...    ...   ...                   ...                     ...   \n",
            "1454  2174     4                  16.8                     0.0   \n",
            "1455  2175     3                  10.8                     0.0   \n",
            "1456  2176     5                  18.3                     0.0   \n",
            "1457  2178    21                  20.7                     0.0   \n",
            "1458  2179    17                  21.1                     0.0   \n",
            "\n",
            "      hour_bef_windspeed  hour_bef_humidity  hour_bef_visibility  \\\n",
            "0                    1.5               89.0                576.0   \n",
            "1                    1.4               48.0                916.0   \n",
            "2                    0.7               79.0               1382.0   \n",
            "3                    2.7               54.0                946.0   \n",
            "4                    4.8                7.0               2000.0   \n",
            "...                  ...                ...                  ...   \n",
            "1454                 1.6               53.0               2000.0   \n",
            "1455                 3.8               45.0               2000.0   \n",
            "1456                 1.9               54.0               2000.0   \n",
            "1457                 3.7               37.0               1395.0   \n",
            "1458                 3.1               47.0               1973.0   \n",
            "\n",
            "      hour_bef_ozone  hour_bef_pm10  hour_bef_pm2.5  count  \n",
            "0              0.027           76.0            33.0   49.0  \n",
            "1              0.042           73.0            40.0  159.0  \n",
            "2              0.033           32.0            19.0   26.0  \n",
            "3              0.040           75.0            64.0   57.0  \n",
            "4              0.057           27.0            11.0  431.0  \n",
            "...              ...            ...             ...    ...  \n",
            "1454           0.031           37.0            27.0   21.0  \n",
            "1455           0.039           34.0            19.0   20.0  \n",
            "1456           0.009           30.0            21.0   22.0  \n",
            "1457           0.082           71.0            36.0  216.0  \n",
            "1458           0.046           38.0            17.0  170.0  \n",
            "\n",
            "[1459 rows x 11 columns]\n"
          ]
        }
      ]
    },
    {
      "cell_type": "markdown",
      "metadata": {
        "id": "K8YgC54VtiB7"
      },
      "source": [
        "# [↩️ 리스트로 돌아가기](https://dacon.io/competitions/open/235698/overview/description)"
      ]
    }
  ]
}