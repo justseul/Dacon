{
  "nbformat": 4,
  "nbformat_minor": 0,
  "metadata": {
    "colab": {
      "provenance": [],
      "collapsed_sections": [
        "J1Is2vFL4cxY"
      ]
    },
    "kernelspec": {
      "name": "python3",
      "display_name": "Python 3"
    },
    "language_info": {
      "name": "python"
    },
    "accelerator": "GPU"
  },
  "cells": [
    {
      "cell_type": "markdown",
      "metadata": {
        "id": "vIpjpOEXsoW0"
      },
      "source": [
        "# [↩️ 리스트로 돌아가기](https://dacon.io/competitions/open/235698/overview/description)"
      ]
    },
    {
      "cell_type": "markdown",
      "metadata": {
        "id": "Y8EsppNShcez"
      },
      "source": [
        "# 셀을 실행할 때 팝업이 뜨면 `무시하고 계속하기` 를 눌러주세요\n"
      ]
    },
    {
      "cell_type": "markdown",
      "metadata": {
        "id": "7A1_NrpnNgI0"
      },
      "source": [
        "## 데이터 다운로드\n",
        "--- \n",
        "아래 셀을 실행시켜 데이터를 colab에 불러옵니다.  \n",
        "셀 실행은 Ctrl + Enter 를 이용해 실행 시킬 수 있습니다. "
      ]
    },
    {
      "cell_type": "code",
      "metadata": {
        "id": "a3VxvpLvhnap",
        "outputId": "c3454799-c5f1-4c4b-832e-344f85107279",
        "colab": {
          "base_uri": "https://localhost:8080/"
        }
      },
      "source": [
        "# 데이터 다운로드 링크로 데이터를 코랩에 불러옵니다.\n",
        "\n",
        "!wget 'https://bit.ly/3gLj0Q6'\n",
        "\n",
        "import zipfile\n",
        "with zipfile.ZipFile('3gLj0Q6', 'r') as existing_zip:\n",
        "    existing_zip.extractall('data')"
      ],
      "execution_count": 12,
      "outputs": [
        {
          "output_type": "stream",
          "name": "stdout",
          "text": [
            "--2023-01-21 20:21:29--  https://bit.ly/3gLj0Q6\n",
            "Resolving bit.ly (bit.ly)... 67.199.248.10, 67.199.248.11\n",
            "Connecting to bit.ly (bit.ly)|67.199.248.10|:443... connected.\n",
            "HTTP request sent, awaiting response... 301 Moved Permanently\n",
            "Location: https://drive.google.com/uc?export=download&id=1or_QN1ksv81DNog6Tu_kWcZ5jJWf5W9E [following]\n",
            "--2023-01-21 20:21:29--  https://drive.google.com/uc?export=download&id=1or_QN1ksv81DNog6Tu_kWcZ5jJWf5W9E\n",
            "Resolving drive.google.com (drive.google.com)... 172.253.122.102, 172.253.122.138, 172.253.122.101, ...\n",
            "Connecting to drive.google.com (drive.google.com)|172.253.122.102|:443... connected.\n",
            "HTTP request sent, awaiting response... 303 See Other\n",
            "Location: https://doc-0c-10-docs.googleusercontent.com/docs/securesc/ha0ro937gcuc7l7deffksulhg5h7mbp1/8qetj8q5rvpocn8am4akfpdo7uobk3cv/1674332475000/17946651057176172524/*/1or_QN1ksv81DNog6Tu_kWcZ5jJWf5W9E?e=download&uuid=f5bdfe6f-04a9-463e-ae54-3e5bb326c4f3 [following]\n",
            "Warning: wildcards not supported in HTTP.\n",
            "--2023-01-21 20:21:29--  https://doc-0c-10-docs.googleusercontent.com/docs/securesc/ha0ro937gcuc7l7deffksulhg5h7mbp1/8qetj8q5rvpocn8am4akfpdo7uobk3cv/1674332475000/17946651057176172524/*/1or_QN1ksv81DNog6Tu_kWcZ5jJWf5W9E?e=download&uuid=f5bdfe6f-04a9-463e-ae54-3e5bb326c4f3\n",
            "Resolving doc-0c-10-docs.googleusercontent.com (doc-0c-10-docs.googleusercontent.com)... 142.251.163.132, 2607:f8b0:4004:c1b::84\n",
            "Connecting to doc-0c-10-docs.googleusercontent.com (doc-0c-10-docs.googleusercontent.com)|142.251.163.132|:443... connected.\n",
            "HTTP request sent, awaiting response... 200 OK\n",
            "Length: 39208 (38K) [application/zip]\n",
            "Saving to: ‘3gLj0Q6.1’\n",
            "\n",
            "3gLj0Q6.1           100%[===================>]  38.29K  --.-KB/s    in 0s      \n",
            "\n",
            "2023-01-21 20:21:29 (111 MB/s) - ‘3gLj0Q6.1’ saved [39208/39208]\n",
            "\n"
          ]
        }
      ]
    },
    {
      "cell_type": "markdown",
      "metadata": {
        "id": "gx8XCXCxeQk8"
      },
      "source": [
        "## 라이브러리 불러오기\n",
        "---\n",
        "아래 셀을 실행시켜 pandas 와 DecisionTreeClassifier 를 불러옵니다."
      ]
    },
    {
      "cell_type": "code",
      "metadata": {
        "id": "kt_IKrkPeNwQ"
      },
      "source": [
        "import pandas as pd\n",
        "from sklearn.ensemble import RandomForestRegressor"
      ],
      "execution_count": 13,
      "outputs": []
    },
    {
      "cell_type": "markdown",
      "metadata": {
        "id": "VxC2pa2-rgat"
      },
      "source": [
        "## 데이터 불러오기\n",
        "---\n",
        "아래 셀을 실행시켜 csv 파일 데이터를 DataFrame 객체로 불러옵니다."
      ]
    },
    {
      "cell_type": "code",
      "metadata": {
        "id": "V6wTaK4sfnms"
      },
      "source": [
        "train = pd.read_csv('data/train.csv') \n",
        "test = pd.read_csv('data/test.csv')"
      ],
      "execution_count": 14,
      "outputs": []
    },
    {
      "cell_type": "markdown",
      "metadata": {
        "id": "w_PwM9kF7Pbi"
      },
      "source": [
        "## 전처리\n",
        "---\n",
        "train 은 interpolate() 를 이용해 결측치를 DataFrame 값에 선형으로 비례하여 보간합니다.\n",
        "test 의 결측치는 0으로 채워줍니다."
      ]
    },
    {
      "cell_type": "code",
      "metadata": {
        "id": "H2K-UbwAkuJ6"
      },
      "source": [
        "train.interpolate(inplace=True)\n",
        "test.fillna(0, inplace=True)"
      ],
      "execution_count": 15,
      "outputs": []
    },
    {
      "cell_type": "code",
      "metadata": {
        "id": "ZOHdV_UjJ-Y9"
      },
      "source": [
        "# 앞 과정에서 파악된 변수 중요도가 낮은 피쳐드를 제거합니다.\n",
        "\n",
        "X_train = train.drop(['count', 'id', 'hour_bef_windspeed', 'hour_bef_pm2.5'], axis=1)\n",
        "Y_train = train['count']\n",
        "test = test.drop(['id', 'hour_bef_windspeed', 'hour_bef_pm2.5'], axis=1)"
      ],
      "execution_count": 16,
      "outputs": []
    },
    {
      "cell_type": "markdown",
      "metadata": {
        "id": "ZksEbPou52yW"
      },
      "source": [
        "## 👋 실습\n",
        "---"
      ]
    },
    {
      "cell_type": "code",
      "metadata": {
        "id": "86ldFLXsk2GZ"
      },
      "source": [
        "# 실습 문제 오류류"
      ],
      "execution_count": 17,
      "outputs": []
    },
    {
      "cell_type": "markdown",
      "metadata": {
        "id": "J1Is2vFL4cxY"
      },
      "source": [
        "## 정답\n",
        "---"
      ]
    },
    {
      "cell_type": "code",
      "metadata": {
        "id": "rGbL9SKEPrnk",
        "outputId": "00ce6c8d-1066-48e9-cfec-e8cdb488898f",
        "colab": {
          "base_uri": "https://localhost:8080/"
        }
      },
      "source": [
        "from sklearn.model_selection import GridSearchCV\n",
        "\n",
        "model = RandomForestRegressor(criterion = 'mse', random_state=2020)\n",
        "\n",
        "params = {'n_estimators': [200, 300, 500],\n",
        "          'max_features': [5, 6, 8],\n",
        "          'min_samples_leaf': [1, 3, 5]}\n",
        "\n",
        "greedy_CV = GridSearchCV(model, param_grid=params, cv = 3, n_jobs = -1)\n",
        "greedy_CV.fit(X_train, Y_train)"
      ],
      "execution_count": 21,
      "outputs": [
        {
          "output_type": "stream",
          "name": "stderr",
          "text": [
            "/usr/local/lib/python3.8/dist-packages/sklearn/model_selection/_validation.py:372: FitFailedWarning: \n",
            "27 fits failed out of a total of 81.\n",
            "The score on these train-test partitions for these parameters will be set to nan.\n",
            "If these failures are not expected, you can try to debug them by setting error_score='raise'.\n",
            "\n",
            "Below are more details about the failures:\n",
            "--------------------------------------------------------------------------------\n",
            "27 fits failed with the following error:\n",
            "Traceback (most recent call last):\n",
            "  File \"/usr/local/lib/python3.8/dist-packages/sklearn/model_selection/_validation.py\", line 680, in _fit_and_score\n",
            "    estimator.fit(X_train, y_train, **fit_params)\n",
            "  File \"/usr/local/lib/python3.8/dist-packages/sklearn/ensemble/_forest.py\", line 450, in fit\n",
            "    trees = Parallel(\n",
            "  File \"/usr/local/lib/python3.8/dist-packages/joblib/parallel.py\", line 1085, in __call__\n",
            "    if self.dispatch_one_batch(iterator):\n",
            "  File \"/usr/local/lib/python3.8/dist-packages/joblib/parallel.py\", line 901, in dispatch_one_batch\n",
            "    self._dispatch(tasks)\n",
            "  File \"/usr/local/lib/python3.8/dist-packages/joblib/parallel.py\", line 819, in _dispatch\n",
            "    job = self._backend.apply_async(batch, callback=cb)\n",
            "  File \"/usr/local/lib/python3.8/dist-packages/joblib/_parallel_backends.py\", line 208, in apply_async\n",
            "    result = ImmediateResult(func)\n",
            "  File \"/usr/local/lib/python3.8/dist-packages/joblib/_parallel_backends.py\", line 597, in __init__\n",
            "    self.results = batch()\n",
            "  File \"/usr/local/lib/python3.8/dist-packages/joblib/parallel.py\", line 288, in __call__\n",
            "    return [func(*args, **kwargs)\n",
            "  File \"/usr/local/lib/python3.8/dist-packages/joblib/parallel.py\", line 288, in <listcomp>\n",
            "    return [func(*args, **kwargs)\n",
            "  File \"/usr/local/lib/python3.8/dist-packages/sklearn/utils/fixes.py\", line 216, in __call__\n",
            "    return self.function(*args, **kwargs)\n",
            "  File \"/usr/local/lib/python3.8/dist-packages/sklearn/ensemble/_forest.py\", line 185, in _parallel_build_trees\n",
            "    tree.fit(X, y, sample_weight=curr_sample_weight, check_input=False)\n",
            "  File \"/usr/local/lib/python3.8/dist-packages/sklearn/tree/_classes.py\", line 1315, in fit\n",
            "    super().fit(\n",
            "  File \"/usr/local/lib/python3.8/dist-packages/sklearn/tree/_classes.py\", line 308, in fit\n",
            "    raise ValueError(\"max_features must be in (0, n_features]\")\n",
            "ValueError: max_features must be in (0, n_features]\n",
            "\n",
            "  warnings.warn(some_fits_failed_message, FitFailedWarning)\n",
            "/usr/local/lib/python3.8/dist-packages/sklearn/model_selection/_search.py:969: UserWarning: One or more of the test scores are non-finite: [0.76557759 0.76712302 0.76653769 0.76275137 0.76367418 0.76389174\n",
            " 0.75794825 0.7581577  0.75768794 0.76688403 0.76913649 0.76754002\n",
            " 0.76521667 0.7673473  0.76558312 0.75740702 0.75881791 0.75775287\n",
            "        nan        nan        nan        nan        nan        nan\n",
            "        nan        nan        nan]\n",
            "  warnings.warn(\n",
            "/usr/local/lib/python3.8/dist-packages/sklearn/ensemble/_forest.py:396: FutureWarning: Criterion 'mse' was deprecated in v1.0 and will be removed in version 1.2. Use `criterion='squared_error'` which is equivalent.\n",
            "  warn(\n"
          ]
        },
        {
          "output_type": "execute_result",
          "data": {
            "text/plain": [
              "GridSearchCV(cv=3,\n",
              "             estimator=RandomForestRegressor(criterion='mse',\n",
              "                                             random_state=2020),\n",
              "             n_jobs=-1,\n",
              "             param_grid={'max_features': [5, 6, 8],\n",
              "                         'min_samples_leaf': [1, 3, 5],\n",
              "                         'n_estimators': [200, 300, 500]})"
            ]
          },
          "metadata": {},
          "execution_count": 21
        }
      ]
    },
    {
      "cell_type": "code",
      "source": [
        "print('RandomForestRegressor: ', greedy_CV.best_params_ )\n",
        "print('RandomForestRegressor: ', greedy_CV.best_score_ )"
      ],
      "metadata": {
        "id": "eJ1s-m8vB5xd",
        "outputId": "f6af30cb-8f68-4917-d887-6ae1aed325ca",
        "colab": {
          "base_uri": "https://localhost:8080/"
        }
      },
      "execution_count": 30,
      "outputs": [
        {
          "output_type": "stream",
          "name": "stdout",
          "text": [
            "RandomForestRegressor:  {'max_features': 6, 'min_samples_leaf': 1, 'n_estimators': 300}\n",
            "RandomForestRegressor:  0.769136493460306\n"
          ]
        }
      ]
    },
    {
      "cell_type": "code",
      "metadata": {
        "id": "XQZhCUCap4mD"
      },
      "source": [
        "pred = greedy_CV.predict(test)"
      ],
      "execution_count": 22,
      "outputs": []
    },
    {
      "cell_type": "code",
      "metadata": {
        "id": "xFiASiJ_dw-j",
        "outputId": "8cc5a3aa-0b6d-4f24-96b1-b897a8ca406b",
        "colab": {
          "base_uri": "https://localhost:8080/"
        }
      },
      "source": [
        "pred"
      ],
      "execution_count": 23,
      "outputs": [
        {
          "output_type": "execute_result",
          "data": {
            "text/plain": [
              "array([105.54333333, 214.12      ,  84.47      ,  40.77      ,\n",
              "        59.20333333, 123.42333333, 194.43333333, 317.70666667,\n",
              "        42.04      , 111.56333333, 295.17666667, 250.64      ,\n",
              "        88.01666667,  41.04      , 208.23333333, 142.61      ,\n",
              "        26.64      , 171.33333333, 344.54      , 153.84      ,\n",
              "       232.16      ,  85.77333333,  25.5       , 140.47333333,\n",
              "       142.61      , 114.72      ,  29.69666667, 116.35666667,\n",
              "       112.89666667, 148.77      ,  75.32      ,  34.78333333,\n",
              "        71.21      , 130.01      , 267.44333333,  40.01666667,\n",
              "       129.84333333, 103.61666667, 244.90333333,  91.13      ,\n",
              "        58.15      , 122.29      , 152.97      ,  91.05333333,\n",
              "       333.61333333, 216.60333333,  94.61333333,  66.12666667,\n",
              "        18.46666667,  85.43      , 226.15666667,  91.92666667,\n",
              "       178.04      ,  82.18333333, 187.81666667, 131.50333333,\n",
              "        51.48      , 171.97666667,  22.02      ,  20.24333333,\n",
              "        88.26      ,  88.27      , 255.10333333, 307.49333333,\n",
              "       162.25666667, 315.19666667,  24.67666667, 238.01      ,\n",
              "       135.18      ,  32.99666667, 101.29333333,  32.38      ,\n",
              "       125.88666667,  15.18666667, 314.98333333, 230.85333333,\n",
              "        35.42333333, 183.04666667, 232.28      ,  28.07666667,\n",
              "       247.66      , 131.65333333,  80.71333333,  84.99333333,\n",
              "        95.15333333, 330.78666667,  59.50333333, 167.04      ,\n",
              "       111.36333333, 278.51333333, 284.12333333, 157.32333333,\n",
              "        73.07666667, 101.31333333,  40.25      ,  83.71666667,\n",
              "        96.17666667,  28.39333333, 220.46666667, 148.11666667,\n",
              "        18.15333333, 145.8       ,  42.95666667, 123.23333333,\n",
              "        79.73333333,  64.41      , 101.94333333,  25.81333333,\n",
              "       168.39333333, 126.44333333, 175.7       , 237.96333333,\n",
              "       157.78666667, 115.92      ,  67.37333333, 118.72333333,\n",
              "       235.84      ,  37.30666667, 192.02      ,  18.16666667,\n",
              "       102.00333333, 112.00333333, 171.76666667, 117.71      ,\n",
              "        51.51666667, 118.05      ,  61.38666667,  14.99333333,\n",
              "       238.78333333,  59.43      , 128.08666667, 160.49666667,\n",
              "        18.4       , 140.42333333, 305.86666667, 130.11666667,\n",
              "        45.59      , 142.88      , 246.72333333, 358.15666667,\n",
              "       198.94      ,  33.49      ,  36.71666667, 106.89333333,\n",
              "        89.53      , 116.45      , 107.79333333, 122.95      ,\n",
              "       155.19666667, 235.62333333, 126.99      , 284.41333333,\n",
              "       314.14      , 242.04      , 155.21666667,  10.42666667,\n",
              "       114.55      ,  19.14666667,  96.00666667, 139.77333333,\n",
              "       138.69666667,  26.26333333, 210.75      , 236.88333333,\n",
              "       124.33666667,  21.76333333, 225.37      , 154.63      ,\n",
              "       282.23      ,  24.44666667, 124.44333333, 117.83      ,\n",
              "        88.65333333, 127.76333333,  99.25666667, 102.17666667,\n",
              "       218.92333333, 206.4       , 155.98666667, 110.93666667,\n",
              "       214.28333333, 165.41666667, 158.49666667, 245.27      ,\n",
              "       145.27333333, 105.43333333, 112.89      , 299.88666667,\n",
              "       166.8       ,  49.64666667,  40.31      , 142.84666667,\n",
              "       121.96333333, 109.3       , 120.03666667, 275.36      ,\n",
              "       328.43333333, 133.79      , 120.26      , 103.78333333,\n",
              "        24.35      , 208.64      ,  22.61666667, 333.74333333,\n",
              "       145.19666667,  43.58      , 132.09666667, 230.40333333,\n",
              "       214.57      ,  67.62333333, 280.10666667, 172.26333333,\n",
              "       129.27      , 221.56333333, 252.43      , 126.74333333,\n",
              "       233.22      , 117.75333333, 137.07      ,  94.41333333,\n",
              "       102.80333333,  31.34333333, 109.80333333,  76.36      ,\n",
              "       145.73      ,  38.87666667, 206.85333333, 181.76666667,\n",
              "        36.41      , 187.49      , 252.97666667, 108.82      ,\n",
              "        27.62333333,  70.76      , 195.19      , 103.11333333,\n",
              "       368.62666667, 310.94      , 158.57666667, 191.9       ,\n",
              "        19.45      , 215.77333333,  32.02      , 135.19      ,\n",
              "       146.43      ,  98.46333333, 121.81333333, 234.64      ,\n",
              "       101.71666667,  23.06333333,  83.80333333, 253.79666667,\n",
              "       235.11333333, 186.62      , 142.27      , 191.18      ,\n",
              "        35.22      , 338.56666667,  74.57666667,  18.37333333,\n",
              "       166.10666667,  33.71333333, 227.36666667,  32.28      ,\n",
              "       182.54666667, 244.96666667,  23.25333333, 227.93666667,\n",
              "        86.15      , 184.11666667, 127.55333333, 102.29666667,\n",
              "        58.82333333, 321.02666667,  31.75666667, 265.84      ,\n",
              "        87.55      , 149.38666667, 202.97666667,  36.59666667,\n",
              "       285.54666667, 107.24333333,  15.78666667, 162.64666667,\n",
              "       186.32333333, 115.98666667, 244.61666667, 131.29666667,\n",
              "        69.53666667, 111.28333333, 119.17333333, 255.67666667,\n",
              "       173.52666667, 106.9       , 136.56666667,  41.48333333,\n",
              "       144.76666667,  46.95666667, 211.87      ,  20.64333333,\n",
              "        99.91333333, 200.47666667, 215.68      , 234.56      ,\n",
              "       363.88666667, 195.99333333, 137.08666667,  60.34666667,\n",
              "       164.57      ,  92.55333333, 262.91      , 252.1       ,\n",
              "       248.72333333,  50.29333333, 252.93333333, 189.69666667,\n",
              "       130.69333333,  38.68      ,  30.87666667,  18.21333333,\n",
              "       220.82333333,  29.73333333, 132.67333333, 146.71333333,\n",
              "        91.42333333, 363.74333333, 264.08666667, 100.10333333,\n",
              "        82.21333333, 104.30333333,  28.56      ,  98.58666667,\n",
              "        73.02666667, 187.85666667, 145.74      ,  37.35666667,\n",
              "       240.22      , 223.33666667, 141.62      , 351.86333333,\n",
              "        20.65666667,  30.61333333, 318.19666667, 185.19      ,\n",
              "       122.54666667,  23.20666667,  33.08      ,  99.35333333,\n",
              "       119.03666667, 289.17      , 214.82333333, 236.42666667,\n",
              "        60.29666667,  58.87333333, 209.58666667,  68.10666667,\n",
              "        20.54666667,  30.81666667, 103.10666667, 112.80666667,\n",
              "        71.80666667, 209.77      , 243.79      , 185.03333333,\n",
              "       162.31      ,  40.23      ,  75.7       , 102.27666667,\n",
              "        21.62      , 193.51666667,  89.26666667,  68.29      ,\n",
              "       231.64      , 295.32333333, 221.03      ,  19.66      ,\n",
              "        41.49      , 182.94666667, 108.30333333,  46.36333333,\n",
              "       117.73      , 117.48333333, 306.52      , 285.95      ,\n",
              "       115.1       ,  81.20666667, 128.62666667, 156.07666667,\n",
              "       124.35666667, 240.55666667,  39.15666667, 147.78333333,\n",
              "       283.26333333,  59.29666667, 116.57333333, 113.52666667,\n",
              "       263.66333333,  36.17666667,  27.88333333, 222.86      ,\n",
              "        20.43333333,  89.89666667,  22.61666667, 253.53333333,\n",
              "        92.25333333, 120.92666667, 159.07333333, 181.19666667,\n",
              "       120.66333333, 118.00333333, 162.78      , 286.73666667,\n",
              "       137.68333333, 119.94333333,  51.44      , 131.47333333,\n",
              "       172.19      , 117.9       ,  59.85      ,  57.22      ,\n",
              "        29.54666667,  33.47333333,  17.40333333,  37.27333333,\n",
              "       163.76      , 114.16333333, 101.07333333, 182.85666667,\n",
              "       108.85333333, 335.75      , 123.22666667, 172.88      ,\n",
              "       246.68      , 114.69666667, 114.21666667, 226.45666667,\n",
              "       326.01333333,  43.72333333, 115.50666667, 352.59666667,\n",
              "       256.15666667, 155.20666667,  45.28666667,  94.72666667,\n",
              "       115.89666667, 103.74333333, 109.57      ,  34.37666667,\n",
              "       324.60333333, 284.92333333, 228.65      , 111.86      ,\n",
              "       157.78666667, 215.        , 132.33666667, 141.48      ,\n",
              "       234.40666667, 105.87666667,  59.46333333, 120.90666667,\n",
              "       192.34333333, 125.1       , 114.30333333, 117.38      ,\n",
              "        92.79666667, 141.45333333, 266.32      ,  98.11      ,\n",
              "       171.82666667, 185.39333333, 238.03333333,  59.84666667,\n",
              "       323.42666667,  92.18333333, 144.57333333, 164.52333333,\n",
              "        21.84333333,  27.45      , 233.26666667, 276.57333333,\n",
              "       106.17      , 104.2       ,  33.34666667,  24.52      ,\n",
              "       270.71333333, 141.84666667, 330.3       , 240.63      ,\n",
              "        84.00333333, 113.4       , 222.86333333, 169.05666667,\n",
              "        72.87333333,  73.55666667,  51.91333333, 178.93333333,\n",
              "       114.68333333, 231.13333333, 292.58666667, 230.65333333,\n",
              "        14.98666667, 228.93      ,  58.54666667,  81.18666667,\n",
              "        49.10333333, 236.87333333, 247.51333333,  30.18      ,\n",
              "       156.85      ,  65.95666667, 203.08666667, 206.41333333,\n",
              "       208.09      , 196.28666667, 355.00333333, 101.23333333,\n",
              "        35.41666667, 252.51666667, 138.59666667, 150.14333333,\n",
              "        34.07      , 233.17666667,  18.29      ,  58.23      ,\n",
              "        27.13333333,  79.97666667,  32.08333333, 186.91      ,\n",
              "       190.75333333, 148.03      ,  41.80333333,  94.26333333,\n",
              "        38.88      , 294.05333333,  94.93333333,  42.19      ,\n",
              "        99.93333333,  23.28333333,  45.07      ,  31.60666667,\n",
              "       300.98666667,  20.33      , 179.45666667, 248.87      ,\n",
              "       309.11666667, 212.76666667, 105.36333333, 118.39      ,\n",
              "       108.91333333, 103.19      , 203.96333333,  39.89666667,\n",
              "        18.93      , 141.19      ,  17.17333333, 178.7       ,\n",
              "       139.51      ,  50.        , 148.89333333, 204.01333333,\n",
              "       217.45333333, 334.        ,  26.97666667,  98.90333333,\n",
              "        36.97333333,  46.13333333,  99.95      , 107.68      ,\n",
              "        32.51333333, 173.92333333,  88.54      , 213.14333333,\n",
              "       121.52666667, 343.82333333, 174.85666667, 284.59333333,\n",
              "       126.13333333, 274.46      ,  64.33      ,  35.39      ,\n",
              "        27.48333333,  37.6       ,  87.46333333,  22.64666667,\n",
              "        20.59333333,  98.82      ,  26.09666667, 259.43333333,\n",
              "       218.98666667, 153.63333333,  85.99333333, 103.20333333,\n",
              "        36.08333333, 141.91      ,  98.36      , 128.85666667,\n",
              "       197.47333333,  22.86333333, 232.39333333, 122.55666667,\n",
              "        14.03666667, 273.33666667, 106.12666667,  35.88      ,\n",
              "        79.2       , 241.46      , 111.4       , 377.43      ,\n",
              "       279.78      , 217.83      , 214.91333333, 188.96666667,\n",
              "        18.44      , 113.94333333, 150.52666667,  29.06333333,\n",
              "        46.87      ,  89.99666667, 213.15333333, 189.67333333,\n",
              "        60.77333333, 174.41666667,  96.59666667, 251.26666667,\n",
              "       119.79666667, 319.26      ,  73.43666667,  32.35666667,\n",
              "        23.02333333, 231.53666667, 235.58666667,  92.4       ,\n",
              "       107.78333333,  33.63333333,  93.36333333, 140.97      ,\n",
              "       171.36666667, 111.30333333, 104.67      ,  44.28      ,\n",
              "       120.12666667, 104.52333333,  72.86666667, 109.28333333,\n",
              "       327.93      , 130.06333333, 247.19      , 141.34333333,\n",
              "       284.34333333, 200.06666667,  86.51666667, 119.99      ,\n",
              "        93.37      , 103.44666667, 243.19      , 245.77      ,\n",
              "       107.48666667, 116.02333333, 121.98666667,  19.97      ,\n",
              "       127.88333333, 248.69333333,  35.88      ,  87.05      ,\n",
              "       114.78      , 119.45666667, 175.54      , 127.28      ,\n",
              "       305.71666667,  86.54666667, 101.92      , 132.91      ,\n",
              "       301.72333333, 110.41666667, 141.60666667, 137.06333333,\n",
              "        40.34      , 187.23      ,  25.05      ,  28.86333333,\n",
              "        24.56      , 226.91333333, 105.99333333, 140.46333333,\n",
              "       256.22666667, 135.56666667, 110.72      ,  31.12      ,\n",
              "       182.31      ,  18.02      , 136.88666667,  30.03666667,\n",
              "        42.51      ,  96.19      ,  60.77      , 197.75333333,\n",
              "        19.28333333, 102.96666667, 180.69      ,  32.01666667,\n",
              "       296.18666667, 278.81      ,  15.14666667, 366.67666667,\n",
              "       115.9       , 272.67      ,  38.75      ,  87.01      ,\n",
              "        39.17666667, 271.62333333,  61.78      ,  70.84      ,\n",
              "       118.92666667, 154.24666667, 197.77666667])"
            ]
          },
          "metadata": {},
          "execution_count": 23
        }
      ]
    },
    {
      "cell_type": "code",
      "metadata": {
        "id": "oFlh7313va1X"
      },
      "source": [
        "submission = pd.read_csv('data/submission.csv')"
      ],
      "execution_count": 24,
      "outputs": []
    },
    {
      "cell_type": "code",
      "metadata": {
        "id": "ElGClyMRYHSk"
      },
      "source": [
        "import numpy as np\n",
        "\n",
        "submission['count'] = np.round(pred, 2)"
      ],
      "execution_count": 25,
      "outputs": []
    },
    {
      "cell_type": "code",
      "metadata": {
        "id": "TTCEA0tTYt2-",
        "outputId": "e3095161-1df0-4b40-db65-68b199703aa4",
        "colab": {
          "base_uri": "https://localhost:8080/",
          "height": 206
        }
      },
      "source": [
        "submission.head()"
      ],
      "execution_count": 26,
      "outputs": [
        {
          "output_type": "execute_result",
          "data": {
            "text/plain": [
              "   id   count\n",
              "0   0  105.54\n",
              "1   1  214.12\n",
              "2   2   84.47\n",
              "3   4   40.77\n",
              "4   5   59.20"
            ],
            "text/html": [
              "\n",
              "  <div id=\"df-09ba9298-3595-46f2-a05e-a5ae9266bf11\">\n",
              "    <div class=\"colab-df-container\">\n",
              "      <div>\n",
              "<style scoped>\n",
              "    .dataframe tbody tr th:only-of-type {\n",
              "        vertical-align: middle;\n",
              "    }\n",
              "\n",
              "    .dataframe tbody tr th {\n",
              "        vertical-align: top;\n",
              "    }\n",
              "\n",
              "    .dataframe thead th {\n",
              "        text-align: right;\n",
              "    }\n",
              "</style>\n",
              "<table border=\"1\" class=\"dataframe\">\n",
              "  <thead>\n",
              "    <tr style=\"text-align: right;\">\n",
              "      <th></th>\n",
              "      <th>id</th>\n",
              "      <th>count</th>\n",
              "    </tr>\n",
              "  </thead>\n",
              "  <tbody>\n",
              "    <tr>\n",
              "      <th>0</th>\n",
              "      <td>0</td>\n",
              "      <td>105.54</td>\n",
              "    </tr>\n",
              "    <tr>\n",
              "      <th>1</th>\n",
              "      <td>1</td>\n",
              "      <td>214.12</td>\n",
              "    </tr>\n",
              "    <tr>\n",
              "      <th>2</th>\n",
              "      <td>2</td>\n",
              "      <td>84.47</td>\n",
              "    </tr>\n",
              "    <tr>\n",
              "      <th>3</th>\n",
              "      <td>4</td>\n",
              "      <td>40.77</td>\n",
              "    </tr>\n",
              "    <tr>\n",
              "      <th>4</th>\n",
              "      <td>5</td>\n",
              "      <td>59.20</td>\n",
              "    </tr>\n",
              "  </tbody>\n",
              "</table>\n",
              "</div>\n",
              "      <button class=\"colab-df-convert\" onclick=\"convertToInteractive('df-09ba9298-3595-46f2-a05e-a5ae9266bf11')\"\n",
              "              title=\"Convert this dataframe to an interactive table.\"\n",
              "              style=\"display:none;\">\n",
              "        \n",
              "  <svg xmlns=\"http://www.w3.org/2000/svg\" height=\"24px\"viewBox=\"0 0 24 24\"\n",
              "       width=\"24px\">\n",
              "    <path d=\"M0 0h24v24H0V0z\" fill=\"none\"/>\n",
              "    <path d=\"M18.56 5.44l.94 2.06.94-2.06 2.06-.94-2.06-.94-.94-2.06-.94 2.06-2.06.94zm-11 1L8.5 8.5l.94-2.06 2.06-.94-2.06-.94L8.5 2.5l-.94 2.06-2.06.94zm10 10l.94 2.06.94-2.06 2.06-.94-2.06-.94-.94-2.06-.94 2.06-2.06.94z\"/><path d=\"M17.41 7.96l-1.37-1.37c-.4-.4-.92-.59-1.43-.59-.52 0-1.04.2-1.43.59L10.3 9.45l-7.72 7.72c-.78.78-.78 2.05 0 2.83L4 21.41c.39.39.9.59 1.41.59.51 0 1.02-.2 1.41-.59l7.78-7.78 2.81-2.81c.8-.78.8-2.07 0-2.86zM5.41 20L4 18.59l7.72-7.72 1.47 1.35L5.41 20z\"/>\n",
              "  </svg>\n",
              "      </button>\n",
              "      \n",
              "  <style>\n",
              "    .colab-df-container {\n",
              "      display:flex;\n",
              "      flex-wrap:wrap;\n",
              "      gap: 12px;\n",
              "    }\n",
              "\n",
              "    .colab-df-convert {\n",
              "      background-color: #E8F0FE;\n",
              "      border: none;\n",
              "      border-radius: 50%;\n",
              "      cursor: pointer;\n",
              "      display: none;\n",
              "      fill: #1967D2;\n",
              "      height: 32px;\n",
              "      padding: 0 0 0 0;\n",
              "      width: 32px;\n",
              "    }\n",
              "\n",
              "    .colab-df-convert:hover {\n",
              "      background-color: #E2EBFA;\n",
              "      box-shadow: 0px 1px 2px rgba(60, 64, 67, 0.3), 0px 1px 3px 1px rgba(60, 64, 67, 0.15);\n",
              "      fill: #174EA6;\n",
              "    }\n",
              "\n",
              "    [theme=dark] .colab-df-convert {\n",
              "      background-color: #3B4455;\n",
              "      fill: #D2E3FC;\n",
              "    }\n",
              "\n",
              "    [theme=dark] .colab-df-convert:hover {\n",
              "      background-color: #434B5C;\n",
              "      box-shadow: 0px 1px 3px 1px rgba(0, 0, 0, 0.15);\n",
              "      filter: drop-shadow(0px 1px 2px rgba(0, 0, 0, 0.3));\n",
              "      fill: #FFFFFF;\n",
              "    }\n",
              "  </style>\n",
              "\n",
              "      <script>\n",
              "        const buttonEl =\n",
              "          document.querySelector('#df-09ba9298-3595-46f2-a05e-a5ae9266bf11 button.colab-df-convert');\n",
              "        buttonEl.style.display =\n",
              "          google.colab.kernel.accessAllowed ? 'block' : 'none';\n",
              "\n",
              "        async function convertToInteractive(key) {\n",
              "          const element = document.querySelector('#df-09ba9298-3595-46f2-a05e-a5ae9266bf11');\n",
              "          const dataTable =\n",
              "            await google.colab.kernel.invokeFunction('convertToInteractive',\n",
              "                                                     [key], {});\n",
              "          if (!dataTable) return;\n",
              "\n",
              "          const docLinkHtml = 'Like what you see? Visit the ' +\n",
              "            '<a target=\"_blank\" href=https://colab.research.google.com/notebooks/data_table.ipynb>data table notebook</a>'\n",
              "            + ' to learn more about interactive tables.';\n",
              "          element.innerHTML = '';\n",
              "          dataTable['output_type'] = 'display_data';\n",
              "          await google.colab.output.renderOutput(dataTable, element);\n",
              "          const docLink = document.createElement('div');\n",
              "          docLink.innerHTML = docLinkHtml;\n",
              "          element.appendChild(docLink);\n",
              "        }\n",
              "      </script>\n",
              "    </div>\n",
              "  </div>\n",
              "  "
            ]
          },
          "metadata": {},
          "execution_count": 26
        }
      ]
    },
    {
      "cell_type": "code",
      "metadata": {
        "id": "Anbnh4vuYHCP"
      },
      "source": [
        "submission.to_csv('sub.csv',index=False)"
      ],
      "execution_count": 27,
      "outputs": []
    },
    {
      "cell_type": "markdown",
      "metadata": {
        "id": "K8YgC54VtiB7"
      },
      "source": [
        "# [↩️ 리스트로 돌아가기](https://dacon.io/competitions/open/235698/overview/description)"
      ]
    }
  ]
}