{
  "nbformat": 4,
  "nbformat_minor": 0,
  "metadata": {
    "colab": {
      "provenance": [],
      "collapsed_sections": [
        "_h_W13Lc-p82"
      ]
    },
    "kernelspec": {
      "name": "python3",
      "display_name": "Python 3"
    },
    "language_info": {
      "name": "python"
    }
  },
  "cells": [
    {
      "cell_type": "markdown",
      "metadata": {
        "id": "vIpjpOEXsoW0"
      },
      "source": [
        "# [↩️ 리스트로 돌아가기](https://dacon.io/competitions/open/235698/overview/description)"
      ]
    },
    {
      "cell_type": "markdown",
      "metadata": {
        "id": "cdkhATahdXka"
      },
      "source": [
        "# 셀을 실행할 때 팝업이 뜨면 `무시하고 계속하기` 를 눌러주세요\n"
      ]
    },
    {
      "cell_type": "markdown",
      "metadata": {
        "id": "Ggy1e31e_1yu"
      },
      "source": [
        "기존 내용과 상이한 부분이 있어 주석으로 문제를 제출하는 것에 한계가 있기때문에,   \n",
        "이번시간에는 게시글의 코드를 보며 필사하는 시간을 갖도록 하겠습니다."
      ]
    },
    {
      "cell_type": "markdown",
      "metadata": {
        "id": "91j6o0CC8y6w"
      },
      "source": [
        "## 데이터 다운로드\n",
        "---\n",
        "아래 셀을 실행시켜 데이터를 colab 에 불러옵니다.\n",
        "셀 실행은 Ctrl + Enter 를 이용해 실행시킬 수 있습니다."
      ]
    },
    {
      "cell_type": "code",
      "metadata": {
        "id": "GVPJmIjs82WW",
        "outputId": "d7903a64-46a8-41a2-ff3f-6fa2ea8e71c8",
        "colab": {
          "base_uri": "https://localhost:8080/"
        }
      },
      "source": [
        "# 데이터 다운로드 링크로 데이터를 코랩에 불러옵니다.\n",
        "\n",
        "!wget 'https://bit.ly/3i4n1QB'\n",
        "\n",
        "import zipfile\n",
        "with zipfile.ZipFile('3i4n1QB', 'r') as existing_zip:\n",
        "    existing_zip.extractall('data')"
      ],
      "execution_count": 1,
      "outputs": [
        {
          "output_type": "stream",
          "name": "stdout",
          "text": [
            "--2023-06-25 14:02:28--  https://bit.ly/3i4n1QB\n",
            "Resolving bit.ly (bit.ly)... 67.199.248.10, 67.199.248.11\n",
            "Connecting to bit.ly (bit.ly)|67.199.248.10|:443... connected.\n",
            "HTTP request sent, awaiting response... 301 Moved Permanently\n",
            "Location: https://drive.google.com/uc?export=download&id=1emLrrpFWT8dCoj5BJb12-5QMG2-nruUw [following]\n",
            "--2023-06-25 14:02:28--  https://drive.google.com/uc?export=download&id=1emLrrpFWT8dCoj5BJb12-5QMG2-nruUw\n",
            "Resolving drive.google.com (drive.google.com)... 64.233.188.113, 64.233.188.100, 64.233.188.139, ...\n",
            "Connecting to drive.google.com (drive.google.com)|64.233.188.113|:443... connected.\n",
            "HTTP request sent, awaiting response... 303 See Other\n",
            "Location: https://doc-10-10-docs.googleusercontent.com/docs/securesc/ha0ro937gcuc7l7deffksulhg5h7mbp1/r3kq8dvegamb7v9fkbes4cq7evckkgjo/1687701750000/17946651057176172524/*/1emLrrpFWT8dCoj5BJb12-5QMG2-nruUw?e=download&uuid=f2d3e16e-2735-4adb-afb1-3ab596ef7290 [following]\n",
            "Warning: wildcards not supported in HTTP.\n",
            "--2023-06-25 14:02:30--  https://doc-10-10-docs.googleusercontent.com/docs/securesc/ha0ro937gcuc7l7deffksulhg5h7mbp1/r3kq8dvegamb7v9fkbes4cq7evckkgjo/1687701750000/17946651057176172524/*/1emLrrpFWT8dCoj5BJb12-5QMG2-nruUw?e=download&uuid=f2d3e16e-2735-4adb-afb1-3ab596ef7290\n",
            "Resolving doc-10-10-docs.googleusercontent.com (doc-10-10-docs.googleusercontent.com)... 108.177.97.132, 2404:6800:4008:c00::84\n",
            "Connecting to doc-10-10-docs.googleusercontent.com (doc-10-10-docs.googleusercontent.com)|108.177.97.132|:443... connected.\n",
            "HTTP request sent, awaiting response... 200 OK\n",
            "Length: 137694 (134K) [application/zip]\n",
            "Saving to: ‘3i4n1QB’\n",
            "\n",
            "3i4n1QB             100%[===================>] 134.47K  --.-KB/s    in 0.002s  \n",
            "\n",
            "2023-06-25 14:02:30 (56.3 MB/s) - ‘3i4n1QB’ saved [137694/137694]\n",
            "\n"
          ]
        }
      ]
    },
    {
      "cell_type": "code",
      "metadata": {
        "id": "GqVbFVMCGJzT"
      },
      "source": [
        "# 라이브러리 및 데이터 불러오기\n",
        "import pandas as pd\n",
        "from sklearn.model_selection import StratifiedKFold\n",
        "from sklearn.metrics import accuracy_score\n",
        "\n",
        "from lightgbm import LGBMClassifier\n",
        "from xgboost import XGBClassifier\n",
        "\n",
        "from sklearn.ensemble import VotingClassifier\n",
        "from sklearn.ensemble import RandomForestClassifier\n",
        "\n",
        "train = pd.read_csv('data/train.csv')\n",
        "test = pd.read_csv('data/test.csv')\n",
        "\n",
        "train.drop('index',axis = 1 ,inplace =True)\n",
        "test.drop('index',axis = 1 ,inplace =True)"
      ],
      "execution_count": 2,
      "outputs": []
    },
    {
      "cell_type": "markdown",
      "metadata": {
        "id": "ZksEbPou52yW"
      },
      "source": [
        "## 👋 실습\n",
        "---\n",
        "이번 시간에는 실습 코드가 다소 어렵기 때문에,\n",
        "` \"이곳을 채워 주세요\"` 부분만 채워 가며 실습을 진행 하도록 하겠습니다.\n"
      ]
    },
    {
      "cell_type": "code",
      "metadata": {
        "id": "8pWpHl1LdeEp"
      },
      "source": [
        "# 데이터 확인\n",
        "train.head()"
      ],
      "execution_count": null,
      "outputs": []
    },
    {
      "cell_type": "code",
      "metadata": {
        "id": "mxijPn5Gd09b"
      },
      "source": [
        "# 원핫 인코딩 (pd.get_dummies())\n",
        "train_one = pd.get_dummies(train)\n",
        "test_one = pd.get_dummies(test)"
      ],
      "execution_count": 4,
      "outputs": []
    },
    {
      "cell_type": "code",
      "metadata": {
        "id": "qYn-_DQIxLcK",
        "outputId": "053e620e-0439-4e8d-ae15-2bb7151e486a",
        "colab": {
          "base_uri": "https://localhost:8080/"
        }
      },
      "source": [
        "# StratifiedKFold라이브러리를 이용해 5개의 fold로 나눔.\n",
        "\n",
        "skf = StratifiedKFold(n_splits=5)\n",
        "\n",
        "X = train_one.drop('quality',axis = 1)\n",
        "y = train_one['quality']\n",
        "\n",
        "cnt = 1\n",
        "acc = 0\n",
        "\n",
        "for train_idx, valid_idx in skf.split(X,y):\n",
        "\n",
        "  train_data = train_one.iloc[train_idx]\n",
        "  valid_data = train_one.iloc[valid_idx]\n",
        "\n",
        "  # 모델 정의\n",
        "\n",
        "  LGBM =  LGBMClassifier()# LGBM\n",
        "  XGB = XGBClassifier() # XGBoost\n",
        "  RF = RandomForestClassifier() #Random forest\n",
        "\n",
        "\n",
        "  VC = VotingClassifier(estimators=[('LGBM',LGBM),('XGB',XGB),('RF',RF)],voting='soft') # VotingClassifier\n",
        "\n",
        "  # train_X 는 train_data에서 quality 를 제외한 모든 변수\n",
        "  # train_y 는 train_data의 qulity 변수\n",
        "\n",
        "  train_X = train_data.drop('quality',axis=1)\n",
        "  train_y = train_data['quality']\n",
        "\n",
        "  # fit 메소드를 이용해 모델 학습\n",
        "  VC.fit(train_X, train_y)\n",
        "\n",
        "\n",
        "  # 성능 검증\n",
        "\n",
        "\n",
        "  # valid_X 는 valid_data에서 quality 를 제외한 모든 변수\n",
        "  # valid_y 는 valid_data의 qulity 변수\n",
        "\n",
        "  valid_X = valid_data.drop('quality',axis = 1)\n",
        "  valid_y = valid_data['quality']\n",
        "\n",
        "\n",
        "  # predict 메소드와 valid_X 데이터를 이용해 품질 예측\n",
        "  pred = VC.predict(valid_X)\n",
        "\n",
        "  # accuracy_score 라이브러리를 이용해 모델 정확도 출력\n",
        "\n",
        "  print(cnt,\" 번째 모델 정확도 : \" ,accuracy_score(pred,valid_y))\n",
        "  acc += accuracy_score(pred,valid_y)\n",
        "  cnt+=1\n",
        "\n",
        "print('모델 정확도 평균 : ',acc/5)\n",
        "\n"
      ],
      "execution_count": 10,
      "outputs": [
        {
          "output_type": "stream",
          "name": "stdout",
          "text": [
            "1  번째 모델 정확도 :  0.6827272727272727\n",
            "2  번째 모델 정확도 :  0.6718181818181819\n",
            "3  번째 모델 정확도 :  0.6624203821656051\n",
            "4  번째 모델 정확도 :  0.6615104640582348\n",
            "5  번째 모델 정확도 :  0.6651501364877161\n",
            "모델 정확도 평균 :  0.6687252874514021\n"
          ]
        }
      ]
    },
    {
      "cell_type": "markdown",
      "metadata": {
        "id": "_h_W13Lc-p82"
      },
      "source": [
        "## 정답"
      ]
    },
    {
      "cell_type": "code",
      "metadata": {
        "id": "6t_ufLI3eUd_",
        "colab": {
          "base_uri": "https://localhost:8080/",
          "height": 206
        },
        "outputId": "cf528243-91d6-46d3-f612-187b95eb76a9"
      },
      "source": [
        "# 데이터 확인\n",
        "train.head()"
      ],
      "execution_count": 11,
      "outputs": [
        {
          "output_type": "execute_result",
          "data": {
            "text/plain": [
              "   quality  fixed acidity  volatile acidity  citric acid  residual sugar  \\\n",
              "0        5            5.6             0.695         0.06             6.8   \n",
              "1        5            8.8             0.610         0.14             2.4   \n",
              "2        5            7.9             0.210         0.39             2.0   \n",
              "3        6            7.0             0.210         0.31             6.0   \n",
              "4        6            7.8             0.400         0.26             9.5   \n",
              "\n",
              "   chlorides  free sulfur dioxide  total sulfur dioxide  density    pH  \\\n",
              "0      0.042                  9.0                  84.0  0.99432  3.44   \n",
              "1      0.067                 10.0                  42.0  0.99690  3.19   \n",
              "2      0.057                 21.0                 138.0  0.99176  3.05   \n",
              "3      0.046                 29.0                 108.0  0.99390  3.26   \n",
              "4      0.059                 32.0                 178.0  0.99550  3.04   \n",
              "\n",
              "   sulphates  alcohol   type  \n",
              "0       0.44     10.2  white  \n",
              "1       0.59      9.5    red  \n",
              "2       0.52     10.9  white  \n",
              "3       0.50     10.8  white  \n",
              "4       0.43     10.9  white  "
            ],
            "text/html": [
              "\n",
              "  <div id=\"df-9f9e2c7f-7bfe-4d25-8ee5-4709a231d56a\">\n",
              "    <div class=\"colab-df-container\">\n",
              "      <div>\n",
              "<style scoped>\n",
              "    .dataframe tbody tr th:only-of-type {\n",
              "        vertical-align: middle;\n",
              "    }\n",
              "\n",
              "    .dataframe tbody tr th {\n",
              "        vertical-align: top;\n",
              "    }\n",
              "\n",
              "    .dataframe thead th {\n",
              "        text-align: right;\n",
              "    }\n",
              "</style>\n",
              "<table border=\"1\" class=\"dataframe\">\n",
              "  <thead>\n",
              "    <tr style=\"text-align: right;\">\n",
              "      <th></th>\n",
              "      <th>quality</th>\n",
              "      <th>fixed acidity</th>\n",
              "      <th>volatile acidity</th>\n",
              "      <th>citric acid</th>\n",
              "      <th>residual sugar</th>\n",
              "      <th>chlorides</th>\n",
              "      <th>free sulfur dioxide</th>\n",
              "      <th>total sulfur dioxide</th>\n",
              "      <th>density</th>\n",
              "      <th>pH</th>\n",
              "      <th>sulphates</th>\n",
              "      <th>alcohol</th>\n",
              "      <th>type</th>\n",
              "    </tr>\n",
              "  </thead>\n",
              "  <tbody>\n",
              "    <tr>\n",
              "      <th>0</th>\n",
              "      <td>5</td>\n",
              "      <td>5.6</td>\n",
              "      <td>0.695</td>\n",
              "      <td>0.06</td>\n",
              "      <td>6.8</td>\n",
              "      <td>0.042</td>\n",
              "      <td>9.0</td>\n",
              "      <td>84.0</td>\n",
              "      <td>0.99432</td>\n",
              "      <td>3.44</td>\n",
              "      <td>0.44</td>\n",
              "      <td>10.2</td>\n",
              "      <td>white</td>\n",
              "    </tr>\n",
              "    <tr>\n",
              "      <th>1</th>\n",
              "      <td>5</td>\n",
              "      <td>8.8</td>\n",
              "      <td>0.610</td>\n",
              "      <td>0.14</td>\n",
              "      <td>2.4</td>\n",
              "      <td>0.067</td>\n",
              "      <td>10.0</td>\n",
              "      <td>42.0</td>\n",
              "      <td>0.99690</td>\n",
              "      <td>3.19</td>\n",
              "      <td>0.59</td>\n",
              "      <td>9.5</td>\n",
              "      <td>red</td>\n",
              "    </tr>\n",
              "    <tr>\n",
              "      <th>2</th>\n",
              "      <td>5</td>\n",
              "      <td>7.9</td>\n",
              "      <td>0.210</td>\n",
              "      <td>0.39</td>\n",
              "      <td>2.0</td>\n",
              "      <td>0.057</td>\n",
              "      <td>21.0</td>\n",
              "      <td>138.0</td>\n",
              "      <td>0.99176</td>\n",
              "      <td>3.05</td>\n",
              "      <td>0.52</td>\n",
              "      <td>10.9</td>\n",
              "      <td>white</td>\n",
              "    </tr>\n",
              "    <tr>\n",
              "      <th>3</th>\n",
              "      <td>6</td>\n",
              "      <td>7.0</td>\n",
              "      <td>0.210</td>\n",
              "      <td>0.31</td>\n",
              "      <td>6.0</td>\n",
              "      <td>0.046</td>\n",
              "      <td>29.0</td>\n",
              "      <td>108.0</td>\n",
              "      <td>0.99390</td>\n",
              "      <td>3.26</td>\n",
              "      <td>0.50</td>\n",
              "      <td>10.8</td>\n",
              "      <td>white</td>\n",
              "    </tr>\n",
              "    <tr>\n",
              "      <th>4</th>\n",
              "      <td>6</td>\n",
              "      <td>7.8</td>\n",
              "      <td>0.400</td>\n",
              "      <td>0.26</td>\n",
              "      <td>9.5</td>\n",
              "      <td>0.059</td>\n",
              "      <td>32.0</td>\n",
              "      <td>178.0</td>\n",
              "      <td>0.99550</td>\n",
              "      <td>3.04</td>\n",
              "      <td>0.43</td>\n",
              "      <td>10.9</td>\n",
              "      <td>white</td>\n",
              "    </tr>\n",
              "  </tbody>\n",
              "</table>\n",
              "</div>\n",
              "      <button class=\"colab-df-convert\" onclick=\"convertToInteractive('df-9f9e2c7f-7bfe-4d25-8ee5-4709a231d56a')\"\n",
              "              title=\"Convert this dataframe to an interactive table.\"\n",
              "              style=\"display:none;\">\n",
              "        \n",
              "  <svg xmlns=\"http://www.w3.org/2000/svg\" height=\"24px\"viewBox=\"0 0 24 24\"\n",
              "       width=\"24px\">\n",
              "    <path d=\"M0 0h24v24H0V0z\" fill=\"none\"/>\n",
              "    <path d=\"M18.56 5.44l.94 2.06.94-2.06 2.06-.94-2.06-.94-.94-2.06-.94 2.06-2.06.94zm-11 1L8.5 8.5l.94-2.06 2.06-.94-2.06-.94L8.5 2.5l-.94 2.06-2.06.94zm10 10l.94 2.06.94-2.06 2.06-.94-2.06-.94-.94-2.06-.94 2.06-2.06.94z\"/><path d=\"M17.41 7.96l-1.37-1.37c-.4-.4-.92-.59-1.43-.59-.52 0-1.04.2-1.43.59L10.3 9.45l-7.72 7.72c-.78.78-.78 2.05 0 2.83L4 21.41c.39.39.9.59 1.41.59.51 0 1.02-.2 1.41-.59l7.78-7.78 2.81-2.81c.8-.78.8-2.07 0-2.86zM5.41 20L4 18.59l7.72-7.72 1.47 1.35L5.41 20z\"/>\n",
              "  </svg>\n",
              "      </button>\n",
              "      \n",
              "  <style>\n",
              "    .colab-df-container {\n",
              "      display:flex;\n",
              "      flex-wrap:wrap;\n",
              "      gap: 12px;\n",
              "    }\n",
              "\n",
              "    .colab-df-convert {\n",
              "      background-color: #E8F0FE;\n",
              "      border: none;\n",
              "      border-radius: 50%;\n",
              "      cursor: pointer;\n",
              "      display: none;\n",
              "      fill: #1967D2;\n",
              "      height: 32px;\n",
              "      padding: 0 0 0 0;\n",
              "      width: 32px;\n",
              "    }\n",
              "\n",
              "    .colab-df-convert:hover {\n",
              "      background-color: #E2EBFA;\n",
              "      box-shadow: 0px 1px 2px rgba(60, 64, 67, 0.3), 0px 1px 3px 1px rgba(60, 64, 67, 0.15);\n",
              "      fill: #174EA6;\n",
              "    }\n",
              "\n",
              "    [theme=dark] .colab-df-convert {\n",
              "      background-color: #3B4455;\n",
              "      fill: #D2E3FC;\n",
              "    }\n",
              "\n",
              "    [theme=dark] .colab-df-convert:hover {\n",
              "      background-color: #434B5C;\n",
              "      box-shadow: 0px 1px 3px 1px rgba(0, 0, 0, 0.15);\n",
              "      filter: drop-shadow(0px 1px 2px rgba(0, 0, 0, 0.3));\n",
              "      fill: #FFFFFF;\n",
              "    }\n",
              "  </style>\n",
              "\n",
              "      <script>\n",
              "        const buttonEl =\n",
              "          document.querySelector('#df-9f9e2c7f-7bfe-4d25-8ee5-4709a231d56a button.colab-df-convert');\n",
              "        buttonEl.style.display =\n",
              "          google.colab.kernel.accessAllowed ? 'block' : 'none';\n",
              "\n",
              "        async function convertToInteractive(key) {\n",
              "          const element = document.querySelector('#df-9f9e2c7f-7bfe-4d25-8ee5-4709a231d56a');\n",
              "          const dataTable =\n",
              "            await google.colab.kernel.invokeFunction('convertToInteractive',\n",
              "                                                     [key], {});\n",
              "          if (!dataTable) return;\n",
              "\n",
              "          const docLinkHtml = 'Like what you see? Visit the ' +\n",
              "            '<a target=\"_blank\" href=https://colab.research.google.com/notebooks/data_table.ipynb>data table notebook</a>'\n",
              "            + ' to learn more about interactive tables.';\n",
              "          element.innerHTML = '';\n",
              "          dataTable['output_type'] = 'display_data';\n",
              "          await google.colab.output.renderOutput(dataTable, element);\n",
              "          const docLink = document.createElement('div');\n",
              "          docLink.innerHTML = docLinkHtml;\n",
              "          element.appendChild(docLink);\n",
              "        }\n",
              "      </script>\n",
              "    </div>\n",
              "  </div>\n",
              "  "
            ]
          },
          "metadata": {},
          "execution_count": 11
        }
      ]
    },
    {
      "cell_type": "code",
      "metadata": {
        "id": "E7wkMX2PeuSW"
      },
      "source": [
        "# 원핫 인코딩 (pd.get_dummies())\n",
        "\n",
        "train_one = pd.get_dummies(train)\n",
        "test_one = pd.get_dummies(test)"
      ],
      "execution_count": 12,
      "outputs": []
    },
    {
      "cell_type": "code",
      "metadata": {
        "id": "kpKBtxswNX_t",
        "outputId": "b3cd741f-3e2d-46f0-d064-eb2cfb1b2755",
        "colab": {
          "base_uri": "https://localhost:8080/"
        }
      },
      "source": [
        "# StratifiedKFold라이브러리를 이용해 5개의 fold로 나눔.\n",
        "\n",
        "skf = StratifiedKFold(n_splits = 5)\n",
        "\n",
        "X = train_one.drop('quality',axis = 1)\n",
        "y = train_one['quality']\n",
        "cnt = 1\n",
        "acc = 0\n",
        "for train_idx, valid_idx in skf.split(X,y):\n",
        "\n",
        "  train_data = train_one.iloc[train_idx]\n",
        "  valid_data = train_one.iloc[valid_idx]\n",
        "\n",
        "  # 모델 정의\n",
        "\n",
        "  LGBM = LGBMClassifier() # LGBM\n",
        "  XGB = XGBClassifier() # XGBoost\n",
        "  RF = RandomForestClassifier() #Random forest\n",
        "\n",
        "\n",
        "  VC = VotingClassifier(estimators=[('rf',RF),('xgb',XGB),('lgbm',LGBM)],voting = 'soft') # VotingClassifier\n",
        "\n",
        "\n",
        "  # train_X 는 train_data에서 quality 를 제외한 모든 변수\n",
        "  # train_y 는 train_data의 qulity 변수\n",
        "\n",
        "  train_X = train_data.drop('quality',axis= 1)\n",
        "  train_y = train_data['quality']\n",
        "\n",
        "  # fit 메소드를 이용해 모델 학습\n",
        "  VC.fit(train_X,train_y)\n",
        "\n",
        "\n",
        "  valid_X = valid_data.drop('quality',axis = 1)\n",
        "  valid_y = valid_data['quality']\n",
        "\n",
        "  # predict 메소드와 valid_X 데이터를 이용해 품질 예측\n",
        "  pred = VC.predict(valid_X)\n",
        "\n",
        "  # 모델 정확도 출력\n",
        "  print(cnt,\" 번째 모델 정확도 : \" ,accuracy_score(pred,valid_y))\n",
        "  acc += accuracy_score(pred,valid_y)\n",
        "  cnt+=1\n",
        "\n",
        "print('모델 정확도 평균 : ',acc/5)\n",
        "\n"
      ],
      "execution_count": 13,
      "outputs": [
        {
          "output_type": "stream",
          "name": "stdout",
          "text": [
            "1  번째 모델 정확도 :  0.6818181818181818\n",
            "2  번째 모델 정확도 :  0.6709090909090909\n",
            "3  번째 모델 정확도 :  0.6651501364877161\n",
            "4  번째 모델 정확도 :  0.6596906278434941\n",
            "5  번째 모델 정확도 :  0.6651501364877161\n",
            "모델 정확도 평균 :  0.6685436347092397\n"
          ]
        }
      ]
    },
    {
      "cell_type": "markdown",
      "metadata": {
        "id": "K8YgC54VtiB7"
      },
      "source": [
        "# [↩️ 리스트로 돌아가기](https://dacon.io/competitions/open/235698/overview/description)"
      ]
    }
  ]
}